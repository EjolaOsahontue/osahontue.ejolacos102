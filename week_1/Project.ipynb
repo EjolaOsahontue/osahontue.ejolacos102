{
 "cells": [
  {
   "cell_type": "code",
   "execution_count": 6,
   "id": "4277492a-1ec3-43f6-9462-89b8293ea167",
   "metadata": {},
   "outputs": [
    {
     "name": "stdout",
     "output_type": "stream",
     "text": [
      "The simple intrest is 26550.0\n"
     ]
    }
   ],
   "source": [
    "p = 15000\n",
    "r = 7\n",
    "t = 11\n",
    "m = (r/100)*t\n",
    "n = 1 + m\n",
    "A = p * n\n",
    "print(\"The simple intrest is\",A)"
   ]
  },
  {
   "cell_type": "code",
   "execution_count": 7,
   "id": "a78bd6ee-452f-425e-8661-ca342e5c586f",
   "metadata": {},
   "outputs": [
    {
     "name": "stdout",
     "output_type": "stream",
     "text": [
      "The compound interest is: 273000.0\n"
     ]
    }
   ],
   "source": [
    "p = 13000\n",
    "n = 4\n",
    "t = 3\n",
    "R = 3\n",
    "z = ((R/n)+1)*(n*t)  \n",
    "A = p * z\n",
    "print(\"The compound interest is:\", A)  \n"
   ]
  },
  {
   "cell_type": "code",
   "execution_count": 8,
   "id": "609fb511-2a38-4878-90a5-3a1d2cda66b5",
   "metadata": {},
   "outputs": [
    {
     "name": "stdout",
     "output_type": "stream",
     "text": [
      "The annuity plan is 1920000.0000000005\n"
     ]
    }
   ],
   "source": [
    "p = 35000\n",
    "R = 7\n",
    "n = 6\n",
    "t = 5\n",
    "z = ((R/n)+1) * (n*t)  \n",
    "v = z - 1\n",
    "div = R/n\n",
    "y = v / div\n",
    "A = p * y\n",
    "print(\"The annuity plan is\", A)\n"
   ]
  }
 ],
 "metadata": {
  "kernelspec": {
   "display_name": "Python 3 (ipykernel)",
   "language": "python",
   "name": "python3"
  },
  "language_info": {
   "codemirror_mode": {
    "name": "ipython",
    "version": 3
   },
   "file_extension": ".py",
   "mimetype": "text/x-python",
   "name": "python",
   "nbconvert_exporter": "python",
   "pygments_lexer": "ipython3",
   "version": "3.11.7"
  }
 },
 "nbformat": 4,
 "nbformat_minor": 5
}
