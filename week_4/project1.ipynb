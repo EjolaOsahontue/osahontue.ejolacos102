{
 "cells": [
  {
   "cell_type": "code",
   "execution_count": null,
   "id": "6106a520-2453-4c26-bdfb-a98173b41326",
   "metadata": {},
   "outputs": [],
   "source": [
    "# A PROGRAM TO SHOW THE NAME,AGE AND HEIGHT OF BOYS AND GIRLS\n",
    "\n",
    "\n",
    "girls= {'Evelyn:':'    17 | 5.5 | 80',\n",
    "        'jessica:':'   16 | 6.0 | 85',\n",
    "        'somto:':'     17 | 5.4 | 70',\n",
    "        'Edith:':'     18 | 5.9 | 60',\n",
    "        'Liza:':'      16 | 5.6 | 76',\n",
    "        'Madonna:':'   18 | 5.5 | 66',\n",
    "        'Waje:':'      17 | 6.1 | 87',\n",
    "        'Tola:':'      20 | 6.0 | 95',\n",
    "        'Aisha:':'     19 | 5.7 | 50',\n",
    "        'Latifa:':'    17 | 5.5 | 49'}\n",
    "\n",
    "\n",
    "for names in girls:\n",
    "    print(names,girls [names])\n",
    "\n",
    "\n",
    "boys={'Chinedu:':'   19 | 5.7 | 74',\n",
    "      'Liam:':'      16 | 5.9 | 87',\n",
    "      'Wale:':'      18 | 5.8 | 75',\n",
    "      'Gbenga:':'    17 | 6.1 | 68',\n",
    "      'Abiola:':'    20 | 5.9 | 66',\n",
    "      'kola:':'      19 | 5.5 | 78',\n",
    "      'Kunle:':'     16 | 6.1 | 87',\n",
    "      'George:':'    18 | 5.4 | 98',\n",
    "      'Thomas:':'    17 | 5.8 | 54',\n",
    "      'wesley:':'    19 | 5.7 | 60'}\n",
    "\n",
    "\n",
    "for name in boys:\n",
    "      print(name,boys [name])\n",
    "      \n",
    "\n",
    "\n",
    "\n"
   ]
  }
 ],
 "metadata": {
  "kernelspec": {
   "display_name": "Python 3 (ipykernel)",
   "language": "python",
   "name": "python3"
  },
  "language_info": {
   "codemirror_mode": {
    "name": "ipython",
    "version": 3
   },
   "file_extension": ".py",
   "mimetype": "text/x-python",
   "name": "python",
   "nbconvert_exporter": "python",
   "pygments_lexer": "ipython3",
   "version": "3.11.7"
  }
 },
 "nbformat": 4,
 "nbformat_minor": 5
}
