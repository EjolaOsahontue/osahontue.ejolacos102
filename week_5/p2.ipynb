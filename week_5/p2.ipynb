{
 "cells": [
  {
   "cell_type": "code",
   "execution_count": 4,
   "id": "c682ab93-fd0b-4223-96ed-c1f3f1be94c2",
   "metadata": {},
   "outputs": [
    {
     "name": "stdout",
     "output_type": "stream",
     "text": [
      "Name:  Nicole\n",
      "Age: 50\n",
      "Name:  Miki\n",
      "Age: 35\n"
     ]
    }
   ],
   "source": [
    "def printinfo(name, age=35):\n",
    "    # Test function\n",
    "    print(\"Name: \", name)\n",
    "    print(\"Age:\", age)\n",
    "    return\n",
    "\n",
    "printinfo(age=50, name=\"Nicole\")\n",
    "printinfo(name=\"Miki\")\n"
   ]
  },
  {
   "cell_type": "code",
   "execution_count": null,
   "id": "80627d2a-f7ee-4626-94f2-9d03567690f8",
   "metadata": {},
   "outputs": [],
   "source": []
  }
 ],
 "metadata": {
  "kernelspec": {
   "display_name": "Python 3 (ipykernel)",
   "language": "python",
   "name": "python3"
  },
  "language_info": {
   "codemirror_mode": {
    "name": "ipython",
    "version": 3
   },
   "file_extension": ".py",
   "mimetype": "text/x-python",
   "name": "python",
   "nbconvert_exporter": "python",
   "pygments_lexer": "ipython3",
   "version": "3.11.7"
  }
 },
 "nbformat": 4,
 "nbformat_minor": 5
}
