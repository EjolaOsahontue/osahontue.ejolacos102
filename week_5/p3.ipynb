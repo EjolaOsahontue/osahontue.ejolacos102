{
 "cells": [
  {
   "cell_type": "code",
   "execution_count": 5,
   "id": "e088f33c-e925-4569-b31b-6e57293a3524",
   "metadata": {},
   "outputs": [
    {
     "name": "stdout",
     "output_type": "stream",
     "text": [
      "Output is: \n",
      "10\n",
      "Output is: \n",
      "70\n",
      "60\n",
      "50\n"
     ]
    }
   ],
   "source": [
    "def printinfo9(arg1, *vartuple):\n",
    "    # This is test\n",
    "    print(\"Output is: \")\n",
    "    print(arg1)\n",
    "    for var in vartuple:\n",
    "        print(var)\n",
    "\n",
    "# Corrected function calls\n",
    "printinfo9(10)\n",
    "printinfo9(70, 60, 50)\n"
   ]
  },
  {
   "cell_type": "code",
   "execution_count": null,
   "id": "46eeed33-39bb-4518-80fe-4e36580e0615",
   "metadata": {},
   "outputs": [],
   "source": []
  }
 ],
 "metadata": {
  "kernelspec": {
   "display_name": "Python 3 (ipykernel)",
   "language": "python",
   "name": "python3"
  },
  "language_info": {
   "codemirror_mode": {
    "name": "ipython",
    "version": 3
   },
   "file_extension": ".py",
   "mimetype": "text/x-python",
   "name": "python",
   "nbconvert_exporter": "python",
   "pygments_lexer": "ipython3",
   "version": "3.11.7"
  }
 },
 "nbformat": 4,
 "nbformat_minor": 5
}
